{
  "cells": [
    {
      "cell_type": "code",
      "execution_count": null,
      "metadata": {
        "colab": {
          "background_save": true
        },
        "id": "mKlRwLtP20sr"
      },
      "outputs": [],
      "source": [
        "#factorial with recursion function\n",
        "def factorial(n):\n",
        " if n==0:\n",
        "  return 1\n",
        " else:\n",
        "    return(n*factorial(n-1))\n",
        "print(factorial(5))"
      ]
    },
    {
      "cell_type": "code",
      "execution_count": null,
      "metadata": {
        "colab": {
          "background_save": true
        },
        "id": "Gv5FnNFw4Mir"
      },
      "outputs": [],
      "source": [
        "#factorial without recursive function\n",
        "num= int(input(\"number for fatorial\"))\n",
        "factorial=1\n",
        "for i in range(1,num+1):\n",
        "  factorial = factorial*i\n",
        "print(num,'!',\"=\",factorial)"
      ]
    },
    {
      "cell_type": "code",
      "execution_count": null,
      "metadata": {
        "colab": {
          "background_save": true
        },
        "id": "bNYOychOhdVm"
      },
      "outputs": [],
      "source": [
        "#find out print numbers\n",
        "prime=[]\n",
        "for i in range(2,20):\n",
        " c=0\n",
        " for j in range(1,i):\n",
        "    if i%j==0:\n",
        "      c+=1\n",
        " if c==1:\n",
        "  prime.append(i)\n",
        "print(prime)\n",
        "print(sum(prime))"
      ]
    },
    {
      "cell_type": "code",
      "execution_count": null,
      "metadata": {
        "colab": {
          "base_uri": "https://localhost:8080/"
        },
        "id": "LgYWikVdhboF",
        "outputId": "bef56758-5067-4441-dec4-338d5c6edc32"
      },
      "outputs": [
        {
          "output_type": "stream",
          "name": "stdout",
          "text": [
            "number6\n",
            "not a prime number\n"
          ]
        }
      ],
      "source": [
        "#check if given number is prime or not\n",
        "n=int(input(\"number\"))\n",
        "for i in range(2,n):\n",
        " if n%i==0:\n",
        "   print(\"not a prime number\")\n",
        "   break\n",
        " else:\n",
        "  print(\"prime number\")\n",
        "  break"
      ]
    },
    {
      "cell_type": "code",
      "execution_count": null,
      "metadata": {
        "colab": {
          "background_save": true
        },
        "id": "CJ1RrAXwjHMA"
      },
      "outputs": [],
      "source": [
        "#write a given string in reverse order\n",
        "str1=input()\n",
        "list1=str1.split(' ')\n",
        "print(list1)\n",
        "list2=list1[::-1]\n",
        "print(list2)\n",
        "str2=' '.join(list2)\n",
        "print(str2)\n"
      ]
    },
    {
      "cell_type": "code",
      "execution_count": null,
      "metadata": {
        "id": "3IPhr9VnipxY",
        "colab": {
          "base_uri": "https://localhost:8080/"
        },
        "outputId": "38b3a74e-085c-40bb-eeb2-8d917d12e07e"
      },
      "outputs": [
        {
          "output_type": "stream",
          "name": "stdout",
          "text": [
            "hkiyyu\n",
            "not palindrome\n"
          ]
        }
      ],
      "source": [
        "#palindrome\n",
        "s=input()\n",
        "if s==s [::-1]:\n",
        "  print(\"palindrome\")\n",
        "else:\n",
        "  print(\"not palindrome\")\n"
      ]
    },
    {
      "cell_type": "code",
      "execution_count": null,
      "metadata": {
        "colab": {
          "base_uri": "https://localhost:8080/"
        },
        "id": "ypyUNOW7keFb",
        "outputId": "c4a333cc-084d-4f19-b293-222ec86a1412"
      },
      "outputs": [
        {
          "output_type": "stream",
          "name": "stdout",
          "text": [
            "[1, 4]\n"
          ]
        }
      ],
      "source": [
        "mylist=[1,2,2,2,3,3,4,5,5,6,6]\n",
        "new_list=[]\n",
        "for i in mylist:\n",
        "   if mylist.count(i)==1:\n",
        "     new_list.append(i)\n",
        "print(new_list)\n"
      ]
    },
    {
      "cell_type": "code",
      "execution_count": null,
      "metadata": {
        "colab": {
          "base_uri": "https://localhost:8080/"
        },
        "id": "BXMPetjkk7Hz",
        "outputId": "5d5b80b2-3197-471b-9697-6c0c12aa7df7"
      },
      "outputs": [
        {
          "output_type": "execute_result",
          "data": {
            "text/plain": [
              "[1, 4]"
            ]
          },
          "metadata": {},
          "execution_count": 35
        }
      ],
      "source": [
        "#using list comprehension\n",
        "[i for i in mylist if mylist.count(i) == 1]\n"
      ]
    },
    {
      "cell_type": "code",
      "execution_count": null,
      "metadata": {
        "colab": {
          "base_uri": "https://localhost:8080/"
        },
        "id": "BW2mW6-ElY6e",
        "outputId": "8d95c2c6-913e-4c8f-a29f-810af840f130"
      },
      "outputs": [
        {
          "output_type": "stream",
          "name": "stdout",
          "text": [
            "a:3,b:2,c:3\n"
          ]
        }
      ],
      "source": [
        "#find the occurence of each element\n",
        "str1=\"a,a,a,b,b,c,c,c\"\n",
        "list1=str1.split(',')\n",
        "count_ele= []\n",
        "str_ele= []\n",
        "for ch in list1:\n",
        "  if not ch in str_ele:\n",
        "    count_ele.append(f\"{ch}:{list1.count(ch)}\")\n",
        "    str_ele.append(ch)\n",
        "print(\",\".join(count_ele))"
      ]
    },
    {
      "cell_type": "code",
      "source": [
        "#lambda functions\n",
        "b=[[6,8],[90,4],[23,67]]\n",
        "c=[2,8,6,9,10,23,14]\n",
        "b.sort(key=lambda x:x[0])\n",
        "print(b)\n",
        "print(sorted(c))"
      ],
      "metadata": {
        "colab": {
          "base_uri": "https://localhost:8080/"
        },
        "id": "OA0sXHp220aE",
        "outputId": "2a1aa623-814b-4963-897b-68c77b3e0042"
      },
      "execution_count": null,
      "outputs": [
        {
          "output_type": "stream",
          "name": "stdout",
          "text": [
            "[[6, 8], [23, 67], [90, 4]]\n",
            "[2, 6, 8, 9, 10, 14, 23]\n"
          ]
        }
      ]
    },
    {
      "cell_type": "code",
      "source": [
        "try:\n",
        "  n=int(input(\"how many numbs\"))\n",
        "except:\n",
        "  print(\"please enter number \")\n",
        "else:\n",
        "  list_num=[]\n",
        "  try:\n",
        "    for i in range(n):\n",
        "      num=int(input())\n",
        "      list_num.append(num)\n",
        "    mean=lambda x:sum(x)/len(x)\n",
        "    print(mean(list_num))\n",
        "  except:\n",
        "    print(\"some error occured\")"
      ],
      "metadata": {
        "colab": {
          "base_uri": "https://localhost:8080/"
        },
        "id": "7W3fThrk3uvu",
        "outputId": "bbe87112-122a-4502-d5df-0c2c88de5c69"
      },
      "execution_count": null,
      "outputs": [
        {
          "name": "stdout",
          "output_type": "stream",
          "text": [
            "how many numbs4\n",
            "some error occured\n",
            "5678\n"
          ]
        }
      ]
    },
    {
      "cell_type": "code",
      "source": [
        "2+6+3+6\n"
      ],
      "metadata": {
        "colab": {
          "base_uri": "https://localhost:8080/"
        },
        "id": "W2gW2J1I6COy",
        "outputId": "2733a19a-2cb1-4646-f546-76844586e0d1"
      },
      "execution_count": null,
      "outputs": [
        {
          "output_type": "execute_result",
          "data": {
            "text/plain": [
              "17"
            ]
          },
          "metadata": {},
          "execution_count": 46
        }
      ]
    },
    {
      "cell_type": "code",
      "source": [
        "40/5\n"
      ],
      "metadata": {
        "colab": {
          "base_uri": "https://localhost:8080/"
        },
        "id": "jG0MEKFu6HlO",
        "outputId": "8159b825-7f3b-4323-981e-554768692931"
      },
      "execution_count": null,
      "outputs": [
        {
          "output_type": "execute_result",
          "data": {
            "text/plain": [
              "8.0"
            ]
          },
          "metadata": {},
          "execution_count": 47
        }
      ]
    },
    {
      "cell_type": "code",
      "source": [
        "#increasing triangle with increasing numbs\n",
        "n=5\n",
        "p=1\n",
        "for i in range(n):\n",
        "   for j in range(i+1):\n",
        "      print(p,end=' ')\n",
        "   p+=1\n",
        "   print()"
      ],
      "metadata": {
        "colab": {
          "base_uri": "https://localhost:8080/"
        },
        "id": "szeMkYkd6MMC",
        "outputId": "6997ae6a-c380-497a-8ab7-43dc057b1250"
      },
      "execution_count": null,
      "outputs": [
        {
          "output_type": "stream",
          "name": "stdout",
          "text": [
            "1 \n",
            "2 2 \n",
            "3 3 3 \n",
            "4 4 4 4 \n",
            "5 5 5 5 5 \n"
          ]
        }
      ]
    },
    {
      "cell_type": "code",
      "source": [
        "#increasing triangle decreasing numbers\n",
        "n=5\n",
        "p=n\n",
        "for i in range(n):\n",
        "   for j in range(i+1):\n",
        "     print(p,end=' ')\n",
        "   p-=1\n",
        "   print()"
      ],
      "metadata": {
        "colab": {
          "base_uri": "https://localhost:8080/"
        },
        "id": "ZCeRziDQ6MJK",
        "outputId": "a7dde3e5-eae1-4ee3-ccf6-ff4740ba2faa"
      },
      "execution_count": null,
      "outputs": [
        {
          "output_type": "stream",
          "name": "stdout",
          "text": [
            "5 \n",
            "4 4 \n",
            "3 3 3 \n",
            "2 2 2 2 \n",
            "1 1 1 1 1 \n"
          ]
        }
      ]
    },
    {
      "cell_type": "code",
      "source": [
        "#increasing triangle even numbs\n",
        "n=5\n",
        "p=0\n",
        "for i in range(n):\n",
        "  for j in range(i+1):\n",
        "    print(p,end=' ')\n",
        "  p+=2\n",
        "  print()"
      ],
      "metadata": {
        "colab": {
          "base_uri": "https://localhost:8080/"
        },
        "id": "U6nu0PnI6MIQ",
        "outputId": "92b8ebd1-7560-4654-ea7b-8c18c19130b5"
      },
      "execution_count": null,
      "outputs": [
        {
          "output_type": "stream",
          "name": "stdout",
          "text": [
            "0 \n",
            "2 2 \n",
            "4 4 4 \n",
            "6 6 6 6 \n",
            "8 8 8 8 8 \n"
          ]
        }
      ]
    },
    {
      "cell_type": "code",
      "source": [
        "#increasing triangle even numbs\n",
        "n=5\n",
        "for i in range(n):\n",
        "  for j in range(i+1):\n",
        "     if (i%2==0):\n",
        "      print(1,end=' ')\n",
        "     else:\n",
        "      print(2,end=' ')\n",
        "  print()\n"
      ],
      "metadata": {
        "colab": {
          "base_uri": "https://localhost:8080/"
        },
        "id": "-LJ2MrkT6K_-",
        "outputId": "02d7ce4b-3bc9-4dab-e42e-7f65412cb3ca"
      },
      "execution_count": null,
      "outputs": [
        {
          "output_type": "stream",
          "name": "stdout",
          "text": [
            "1 \n",
            "2 2 \n",
            "1 1 1 \n",
            "2 2 2 2 \n",
            "1 1 1 1 1 \n"
          ]
        }
      ]
    },
    {
      "cell_type": "code",
      "source": [
        "n=5\n",
        "p=1\n",
        "for i in range(n-1):\n",
        "  for j in range(i,n):\n",
        "    print(' ',end=' ')\n",
        "  for j in range(i+1):\n",
        "    print(p,end=' ')\n",
        "  for j in range(i):\n",
        "    print(p,end=' ')\n",
        "  p+=1\n",
        "  print()\n",
        "for i in range(n):\n",
        "  for j in range(i+1):\n",
        "     print(' ',end=' ')\n",
        "  for j in range(i,n):\n",
        "    print(p,end=' ')\n",
        "  for j in range(i,n-1):\n",
        "    print(p,end=' ')\n",
        "  p+=1\n",
        "  print()\n"
      ],
      "metadata": {
        "colab": {
          "base_uri": "https://localhost:8080/"
        },
        "id": "Stjhepgi8RQB",
        "outputId": "1141d534-9976-4b82-8fa2-35bc1ef3f112"
      },
      "execution_count": null,
      "outputs": [
        {
          "output_type": "stream",
          "name": "stdout",
          "text": [
            "          1 \n",
            "        2 2 2 \n",
            "      3 3 3 3 3 \n",
            "    4 4 4 4 4 4 4 \n",
            "  5 5 5 5 5 5 5 5 5 \n",
            "    6 6 6 6 6 6 6 \n",
            "      7 7 7 7 7 \n",
            "        8 8 8 \n",
            "          9 \n"
          ]
        }
      ]
    },
    {
      "cell_type": "code",
      "source": [
        "n=5\n",
        "p=1\n",
        "for i in range(n-1):\n",
        "  for j in range(i,n):\n",
        "    print(' ',end=' ')\n",
        "  for j in range(i+1):\n",
        "    print(p,end=' ')\n",
        "  for j in range(i):\n",
        "    print(p,end=' ')\n",
        "  p+=1\n",
        "  print()\n",
        "for i in range(n):\n",
        "  for j in range(i+1):\n",
        "    print(' ',end=' ')\n",
        "  for j in range(i,n):\n",
        "    print(p,end=' ')\n",
        "  for j in range(i,n-1):\n",
        "    print(p,end=' ')\n",
        "  p-=1\n",
        "  print()"
      ],
      "metadata": {
        "colab": {
          "base_uri": "https://localhost:8080/"
        },
        "id": "uYuhNXri91uq",
        "outputId": "619f68af-1f9f-4132-b8d2-28f2a79674f6"
      },
      "execution_count": null,
      "outputs": [
        {
          "output_type": "stream",
          "name": "stdout",
          "text": [
            "          1 \n",
            "        2 2 2 \n",
            "      3 3 3 3 3 \n",
            "    4 4 4 4 4 4 4 \n",
            "  5 5 5 5 5 5 5 5 5 \n",
            "    4 4 4 4 4 4 4 \n",
            "      3 3 3 3 3 \n",
            "        2 2 2 \n",
            "          1 \n"
          ]
        }
      ]
    },
    {
      "cell_type": "code",
      "source": [
        "#increasing triangle with increasing numbs\n",
        "n=5\n",
        "for i in range(n):\n",
        "  p=1\n",
        "  for j in range(i+1):\n",
        "    print(p,end=' ')\n",
        "    p+=1\n",
        "  print()"
      ],
      "metadata": {
        "colab": {
          "base_uri": "https://localhost:8080/"
        },
        "id": "XX0g9Xcu_ILt",
        "outputId": "5118981b-af4d-4b3d-9f4c-ae514cd1b787"
      },
      "execution_count": null,
      "outputs": [
        {
          "output_type": "stream",
          "name": "stdout",
          "text": [
            "1 \n",
            "1 2 \n",
            "1 2 3 \n",
            "1 2 3 4 \n",
            "1 2 3 4 5 \n"
          ]
        }
      ]
    },
    {
      "cell_type": "code",
      "source": [
        "n=5\n",
        "for i in range(n):\n",
        "    for j in range(i+1):\n",
        "      print(' ',end=' ')\n",
        "    p=1\n",
        "    for j in range(i,n):\n",
        "       print(p,end=' ')\n",
        "       p+=1\n",
        "    print()"
      ],
      "metadata": {
        "colab": {
          "base_uri": "https://localhost:8080/"
        },
        "id": "79b6vfT4_n-W",
        "outputId": "b991dbfb-e557-412b-b330-8767692bc28f"
      },
      "execution_count": null,
      "outputs": [
        {
          "output_type": "stream",
          "name": "stdout",
          "text": [
            "  1 2 3 4 5 \n",
            "    1 2 3 4 \n",
            "      1 2 3 \n",
            "        1 2 \n",
            "          1 \n"
          ]
        }
      ]
    },
    {
      "cell_type": "code",
      "source": [
        "#hill pattern\n",
        "n=5\n",
        "for i in range(n):\n",
        "  for j in range(i,n):\n",
        "    print(' ',end=' ')\n",
        "  p=1\n",
        "  for j in range(i+1):\n",
        "    print(p,end=' ')\n",
        "    p+=1\n",
        "  for j in range(i):\n",
        "    print(p,end=' ')\n",
        "    p+=1\n",
        "  print()\n"
      ],
      "metadata": {
        "colab": {
          "base_uri": "https://localhost:8080/"
        },
        "id": "3Xkv9kVnASyI",
        "outputId": "d3d9ae74-0e67-4097-b69b-7d2e52624a71"
      },
      "execution_count": null,
      "outputs": [
        {
          "output_type": "stream",
          "name": "stdout",
          "text": [
            "          1 \n",
            "        1 2 3 \n",
            "      1 2 3 4 5 \n",
            "    1 2 3 4 5 6 7 \n",
            "  1 2 3 4 5 6 7 8 9 \n"
          ]
        }
      ]
    },
    {
      "cell_type": "code",
      "source": [
        "n=5\n",
        "p=1\n",
        "for i in range(n):\n",
        "  for j in range(i+1):\n",
        "    print(p,end=' ')\n",
        "    p+=1\n",
        "  print()"
      ],
      "metadata": {
        "colab": {
          "base_uri": "https://localhost:8080/"
        },
        "id": "NNFonQV7A7TQ",
        "outputId": "5d5b2a6a-1aa3-4914-881b-63d7244b5a46"
      },
      "execution_count": null,
      "outputs": [
        {
          "output_type": "stream",
          "name": "stdout",
          "text": [
            "1 \n",
            "2 3 \n",
            "4 5 6 \n",
            "7 8 9 10 \n",
            "11 12 13 14 15 \n"
          ]
        }
      ]
    }
  ],
  "metadata": {
    "colab": {
      "provenance": []
    },
    "kernelspec": {
      "display_name": "Python 3",
      "name": "python3"
    },
    "language_info": {
      "name": "python"
    }
  },
  "nbformat": 4,
  "nbformat_minor": 0
}